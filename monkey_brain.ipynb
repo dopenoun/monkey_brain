{
  "nbformat": 4,
  "nbformat_minor": 0,
  "metadata": {
    "colab": {
      "provenance": [],
      "authorship_tag": "ABX9TyNbMAM8pAJzW1emECW3YeuQ",
      "include_colab_link": true
    },
    "kernelspec": {
      "name": "python3",
      "display_name": "Python 3"
    },
    "language_info": {
      "name": "python"
    }
  },
  "cells": [
    {
      "cell_type": "markdown",
      "metadata": {
        "id": "view-in-github",
        "colab_type": "text"
      },
      "source": [
        "<a href=\"https://colab.research.google.com/github/dopenoun/monkey_brain/blob/main/monkey_brain.ipynb\" target=\"_parent\"><img src=\"https://colab.research.google.com/assets/colab-badge.svg\" alt=\"Open In Colab\"/></a>"
      ]
    },
    {
      "cell_type": "markdown",
      "source": [
        "# **Script Overview**\n",
        "\n",
        "**Function to Analyze Text:** This function will count the number of instructions or list items in the text.\n",
        "**Logic to Determine monkey_brain State:** Based on the count, it will set the state of monkey_brain.\n",
        "**Testing the Script:** We'll write some test responses to see if the script works correctly.\n",
        "\n",
        "**Step-by-Step Code Writing**\n"
      ],
      "metadata": {
        "id": "xYpMvsGvn0DT"
      }
    },
    {
      "cell_type": "markdown",
      "source": [],
      "metadata": {
        "id": "aES1jkYRF2Og"
      }
    },
    {
      "cell_type": "markdown",
      "source": [
        "**Import Required Libraries**"
      ],
      "metadata": {
        "id": "z2-LvyW9o8Ei"
      }
    },
    {
      "cell_type": "code",
      "source": [
        "import re  # Regular expression library"
      ],
      "metadata": {
        "id": "PLdi9kCbF3V8"
      },
      "execution_count": 2,
      "outputs": []
    },
    {
      "cell_type": "markdown",
      "source": [
        "**Function to Analyze Text**"
      ],
      "metadata": {
        "id": "N-F6FFmbpT-w"
      }
    },
    {
      "cell_type": "code",
      "source": [
        "def analyze_response(text):\n",
        "    # Count instructions or list items\n",
        "    instructions = re.findall(r'\\d+\\.', text)  # Find patterns like '1.', '2.', etc.\n",
        "    list_items = re.findall(r'- ', text)      # Find patterns like '- ' for list items\n",
        "\n",
        "    return len(instructions), len(list_items)\n"
      ],
      "metadata": {
        "id": "xwTY_K5FpZMZ"
      },
      "execution_count": 3,
      "outputs": []
    },
    {
      "cell_type": "markdown",
      "source": [
        "**Logic for monkey_brain State**"
      ],
      "metadata": {
        "id": "3lomPZKApjwH"
      }
    },
    {
      "cell_type": "code",
      "source": [
        "def determine_monkey_brain_state(text):\n",
        "    instructions_count, list_items_count = analyze_response(text)\n",
        "\n",
        "    if instructions_count > 4 or list_items_count > 8:\n",
        "        return \"me curious, is there more to this?\"\n",
        "    elif instructions_count == 0 and list_items_count == 0:\n",
        "        return \"ooh ooh, Aii Aii, neat neat!\"\n",
        "    else:\n",
        "        return \"me smart, me monkey, this easy.\"\n"
      ],
      "metadata": {
        "id": "8oQeqEfZppdz"
      },
      "execution_count": 4,
      "outputs": []
    },
    {
      "cell_type": "markdown",
      "source": [
        "**Testing the Script**"
      ],
      "metadata": {
        "id": "0yfu_8jLpvQl"
      }
    },
    {
      "cell_type": "code",
      "source": [
        "test_responses = [\n",
        "    \"1. Step one 2. Step two 3. Step three 4. Step four 5. Step five\",  # More than 4 instructions\n",
        "    \"- Item 1 - Item 2 - Item 3\",  # Less than 8 items\n",
        "    \"This is a simple response.\"   # No list or instructions\n",
        "]\n",
        "\n",
        "for response in test_responses:\n",
        "    state = determine_monkey_brain_state(response)\n",
        "    print(f\"Response: {response}\\nMonkey Brain State: {state}\\n\")\n"
      ],
      "metadata": {
        "colab": {
          "base_uri": "https://localhost:8080/"
        },
        "id": "4fCXOz6Pp09M",
        "outputId": "afd14237-ff2c-46f8-95ab-adb4bbabd9fb"
      },
      "execution_count": 5,
      "outputs": [
        {
          "output_type": "stream",
          "name": "stdout",
          "text": [
            "Response: 1. Step one 2. Step two 3. Step three 4. Step four 5. Step five\n",
            "Monkey Brain State: me curious, is there more to this?\n",
            "\n",
            "Response: - Item 1 - Item 2 - Item 3\n",
            "Monkey Brain State: me smart, me monkey, this easy.\n",
            "\n",
            "Response: This is a simple response.\n",
            "Monkey Brain State: ooh ooh, Aii Aii, neat neat!\n",
            "\n"
          ]
        }
      ]
    },
    {
      "cell_type": "markdown",
      "source": [
        "**Step 3: Running the Script**\n",
        "\n",
        "You can run each cell in your Colab notebook to test the functionality.\n",
        "Adjust the regular expressions in the analyze_response function if needed to better match your specific response formats.\n",
        "\n",
        "**Step 4: Integrating with GitHub**\n",
        "\n",
        "Save your notebook in Google Colab.\n",
        "Go to \"File\" -> \"Save a copy in GitHub\".\n",
        "Follow the prompts to connect your GitHub account and choose the repository where you want to save the notebook.\n",
        "\n",
        "**Final Thoughts**\n",
        "\n",
        "This script provides a basic structure for your project. You might need to refine the text analysis part depending on the exact format of the responses you are analyzing. Regular expressions are quite powerful for this task, but they also need precise tuning to work effectively.\n",
        "\n",
        "Remember, programming can be a bit like solving a puzzle – it's okay to try different approaches and learn as you go! Enjoy your coding journey! 🐒💻🌟\n",
        "\n",
        "\n",
        "\n",
        "\n",
        "\n"
      ],
      "metadata": {
        "id": "OIXSNYh0p4o9"
      }
    }
  ]
}